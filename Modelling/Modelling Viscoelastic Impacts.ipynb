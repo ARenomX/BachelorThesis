{
 "cells": [
  {
   "cell_type": "markdown",
   "metadata": {},
   "source": [
    "# Bachelor Thesis - Impacts in viscoelastic foams\n",
    "# Modelisation of the problem"
   ]
  },
  {
   "cell_type": "markdown",
   "metadata": {},
   "source": [
    "We will consider different models for impacts in viscoelastic foams. We will compare their reactions to impacts against rigid solids, and then against a similar viscoelastic solid."
   ]
  },
  {
   "cell_type": "markdown",
   "metadata": {},
   "source": [
    "## Part 1: Considering Different Models"
   ]
  },
  {
   "cell_type": "markdown",
   "metadata": {},
   "source": [
    "We will consider at first simple models for impacts in visocelastic foams. We can consider 4 different models, and analyse their responses to an impact. The first two will be the Kelvin-Voigt, and Maxwell Model, while the latter two will be the Maxwell and Kelvin-Voigt representations of the standard linear model."
   ]
  },
  {
   "cell_type": "markdown",
   "metadata": {},
   "source": [
    "### Maxwell Model\n",
    "\n",
    "The Maxwell model is described by a damper and sprring mounted in series, as seen in the diagram below\n",
    "![title](images/maxwell.png)\n",
    "We can see that following a deformation, the damper element will not return to it's initial length, and therre is therefore an element of permanent deformation. We can therefore discount this model, as it clearly does not represent the situation wee are trying to model, that of a boxing glove."
   ]
  },
  {
   "cell_type": "markdown",
   "metadata": {},
   "source": [
    "### Kelvin-Voigt Model\n",
    "The Kelvin-Voigt model is described by a damper and spring mounted in parallel to one another, as seen in the diagram below.\n",
    "![title](images/kelvin-voigt.png)\n",
    "We can see that unlike the Maxwell model, when the Kelvin-Voigt system is compressed and released, it will return to its initial size. This is representative of the system we are seeking to model, and can therefore be explored further."
   ]
  },
  {
   "cell_type": "markdown",
   "metadata": {},
   "source": [
    "### Standard Linear Solid Model\n",
    "The standard linear solid model (SLSM) can be represented in one of two ways, however both of these ways overcome the inability of the basic Maxwell model to return to its initial size when unloaded. We will consider both models below.\n",
    "#### Maxwell representation of the SLSM\n",
    "The maxwell representation of the standard linear solid model is described as a spring in parallel with a basic Maxwell model (i.e. a spring and damper in series) as described in the diagram below.\n",
    "![title](images/standard-maxwell.png)\n",
    "\n",
    "#### Kelvin-Voigt representation of the SLSM\n",
    "The Kelvin-Voigt representation of the standard linear solid model is described as a spring in series with a basic Kelvin-Voigt model (i.e. a spring and damper in parallel), as described in the diagram below.\n",
    "![title](images/standard-kelvin-voigt.png)\n",
    "\n",
    "We will therefore consider the latter three models, ignoring only the basic maxwell model."
   ]
  },
  {
   "cell_type": "markdown",
   "metadata": {},
   "source": [
    "## Part 2: Equations behind the Models\n",
    "$\\renewcommand{\\eps}{\\varepsilon}$\n",
    "We will now seek to write the equations for each of these three models. We will write out the differential equations in full, and we will write them iteratively for a given time step up to a first order approximation, in order to implement them programatically. We will write as $k_i$ the spring constants, and $\\eta_i$ the dmaping constants, with $\\sigma = \\frac{F}{A}$ the stress, and $\\eps = \\frac{\\Delta L}{L}$ the strain, where $F$ is the force, $A$ the surface area, and $L$ the length.\n",
    "### Kelvin-Voigt\n",
    "\n",
    "Differential Equation: $\\sigma = k\\eps + \\eta \\dot{\\eps}$\n",
    "\n",
    "Iterative equation: $\\sigma_{t+\\delta t} = \\sigma{t} + \\delta t (k \\eps_t + \\eta \\dot{\\eps}_t)$\n",
    "\n",
    "### Maxwell representation of the standard linear solid model\n",
    "\n",
    "Differential Equation: $\\sigma + \\frac{\\eta}{k_2}\\dot{\\sigma} = k_1\\eps + \\frac{\\eta(k_1 + k_2)}{k_2}\\dot{\\eps}$\n",
    "\n",
    "Iterative equation: \n",
    "\n",
    "### Kelvin-Voigt representation of the standard linear solid model\n",
    "\n",
    "Differential Equation: $\\sigma + \\frac{\\eta}{k_1+k_2}\\dot{\\sigma} = \\frac{k_1k_2}{K-1+k_2}\\eps + \\frac{k_1\\eta}{k_1+k2}\\dot{\\eps}$\n",
    "\n",
    "Iterative equation: \n",
    "\n",
    "#### General remarks on iterative modelling\n",
    "\n",
    "For all three cases, when treating the model iteratively, we will have\n",
    "\n",
    "$\\eps_{t+\\delta t} = \\eps_t + \\delta t \\dot{\\eps}_t$\n",
    "\n",
    "$\\dot{\\eps}_{t+\\delta t} = \\dot{\\eps}_{t} + \\delta t \\ddot{\\eps}_t$\n",
    "\n",
    "$\\ddot{\\eps}_{t+\\delta t} = \\frac{A}{m}\\sigma_{t+\\delta t}$\n"
   ]
  },
  {
   "cell_type": "markdown",
   "metadata": {},
   "source": [
    "## Part 3: Implementing the models - Basic case:\n",
    "We are interested in the behaviour of the model immediately after an impact. We will consider the basic case of a visco-eelastic solid dropped from a height, such that it hits a rigid surface with a velocity $v_0$ downwards. We therefore initialise $\\dot{\\eps}(t=0) =0$, and all other parameters are initialised to 0.\n"
   ]
  },
  {
   "cell_type": "code",
   "execution_count": null,
   "metadata": {},
   "outputs": [],
   "source": [
    "### Import Necessary packages\n",
    "import numpy as np\n",
    "import matplotlib.pyplot as plt"
   ]
  },
  {
   "cell_type": "markdown",
   "metadata": {},
   "source": [
    "### Kelvin-Voigt"
   ]
  },
  {
   "cell_type": "code",
   "execution_count": null,
   "metadata": {},
   "outputs": [],
   "source": [
    "### Variable Initialisation\n"
   ]
  },
  {
   "cell_type": "markdown",
   "metadata": {},
   "source": [
    "### References\n",
    "\n",
    "https://en.wikipedia.org/wiki/Maxwell_material \n",
    "\n",
    "https://en.wikipedia.org/wiki/Kelvin-Voigt_material \n",
    "\n",
    "https://en.wikipedia.org/wiki/Standard_linear_solid_model "
   ]
  }
 ],
 "metadata": {
  "kernelspec": {
   "display_name": "Python 3",
   "language": "python",
   "name": "python3"
  },
  "language_info": {
   "codemirror_mode": {
    "name": "ipython",
    "version": 3
   },
   "file_extension": ".py",
   "mimetype": "text/x-python",
   "name": "python",
   "nbconvert_exporter": "python",
   "pygments_lexer": "ipython3",
   "version": "3.6.5"
  }
 },
 "nbformat": 4,
 "nbformat_minor": 2
}
